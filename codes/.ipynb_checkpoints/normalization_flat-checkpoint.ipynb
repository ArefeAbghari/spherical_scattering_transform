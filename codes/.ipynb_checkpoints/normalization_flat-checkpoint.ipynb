{
 "cells": [
  {
   "cell_type": "code",
   "execution_count": 1,
   "id": "5a25d39c",
   "metadata": {},
   "outputs": [],
   "source": [
    "import numpy as np\n",
    "import matplotlib.pyplot as plt\n",
    "import matplotlib.cm as cm\n",
    "import astropy.io.fits as fits\n",
    "import pandas as pd\n",
    "import healpy as hp\n",
    "import time\n",
    "import warnings\n",
    "import scipy.fftpack\n",
    "from kymatio import Scattering2D\n",
    "from kymatio.scattering2d.filter_bank import filter_bank\n",
    "%matplotlib inline"
   ]
  },
  {
   "cell_type": "code",
   "execution_count": 2,
   "id": "93ba3c57",
   "metadata": {},
   "outputs": [],
   "source": [
    "N = 2**8 # this is the number of pixels in a linear dimension\n",
    "pix_size  = 0.5 # size of a pixel in arcminutes\n",
    "pix_size_rad = (pix_size/60. * np.pi/180.)\n",
    "jmax = 8"
   ]
  },
  {
   "cell_type": "code",
   "execution_count": null,
   "id": "c5d47760",
   "metadata": {},
   "outputs": [],
   "source": []
  },
  {
   "cell_type": "code",
   "execution_count": null,
   "id": "cc7e4c34",
   "metadata": {},
   "outputs": [],
   "source": []
  },
  {
   "cell_type": "code",
   "execution_count": 3,
   "id": "365aa168",
   "metadata": {},
   "outputs": [
    {
     "name": "stdout",
     "output_type": "stream",
     "text": [
      "4000\n"
     ]
    },
    {
     "name": "stderr",
     "output_type": "stream",
     "text": [
      "<ipython-input-3-28bbe48e267a>:8: RuntimeWarning: divide by zero encountered in true_divide\n",
      "  ellsc=21600/ell # scale = 360/ell (deg) = 21600/ell (arcmin)\n"
     ]
    },
    {
     "data": {
      "text/plain": [
       "Text(0, 0.5, '$ln(D_l)$')"
      ]
     },
     "execution_count": 3,
     "metadata": {},
     "output_type": "execute_result"
    },
    {
     "data": {
      "image/png": "[encoded data removed]",
      "text/plain": [
       "<Figure size 432x288 with 1 Axes>"
      ]
     },
     "metadata": {
      "needs_background": "light"
     },
     "output_type": "display_data"
    }
   ],
   "source": [
    "lmax=  4000#int (np.ceil(0.7*2*np.pi/pix_size_rad))\n",
    "print (lmax)\n",
    "ell=np.arange(0,lmax+1)\n",
    "\n",
    "dl=1/(np.exp((60 -ell)/20)+np.exp((ell-60)/800))\n",
    "#dl = np.ones (lmax+1)\n",
    "#dl = 1/ell**(3) \n",
    "ellsc=21600/ell # scale = 360/ell (deg) = 21600/ell (arcmin)\n",
    "#ellsc=ellsc[::-1]\n",
    "\n",
    "#fdl=dl[::-1]\n",
    "\n",
    "plt.plot(ell,np.log(dl))\n",
    "plt.xlabel('scale [arcmin]')\n",
    "#plt.scale('log')\n",
    "plt.ylabel('$ln(D_l)$')"
   ]
  },
  {
   "cell_type": "code",
   "execution_count": 4,
   "id": "aa0b3995",
   "metadata": {},
   "outputs": [],
   "source": [
    "## variables to set up the size of the map\n",
    "\n",
    "X_width = N*pix_size/60.  # horizontal map width in degrees\n",
    "Y_width = N*pix_size/60.  # vertical map width in degrees\n",
    "\n",
    "seed = 589\n",
    "np.random.seed(seed)\n",
    "\n",
    "def make_map(N,pix_size,ell,Dl): \n",
    "    \"the pixel size (pix_size) required and the number N of pixels in the linear dimension.\"\n",
    "    # convert Dl to Cl\n",
    "    Cl = Dl * 2 * np.pi / (ell*(ell+1.))\n",
    "    Cl[0] = 0. \n",
    "    Cl[1] = 0.\n",
    "\n",
    "    # make a 2D real space coordinate system\n",
    "    onesvec = np.ones(N)\n",
    "    inds  = (np.arange(N)+.5 - N/2.) /(N-1.) # create an array of size N between -0.5 and +0.5\n",
    "    # compute the outer product matrix: X[i, j] = onesvec[i] * inds[j] for i,j \n",
    "    # in range(N), which is just N rows copies of inds - for the x dimension\n",
    "    X = np.outer(onesvec,inds) \n",
    "    # compute the transpose for the y dimension\n",
    "    Y = np.transpose(X)\n",
    "    # radial component R\n",
    "    R = np.sqrt(X**2. + Y**2.)\n",
    "    \n",
    "    # now make a 2D CMB power spectrum\n",
    "    pix_to_rad = (pix_size/60. * np.pi/180.) # going from pix_size in arcmins to degrees and then degrees to radians\n",
    "    ell_scale_factor = 2. * np.pi /pix_to_rad  # now relating the angular size in radians to multipoles\n",
    "    ell2d = R * ell_scale_factor # making a fourier space analogue to the real space R vector\n",
    "    Cl_expanded = np.zeros(int(ell2d.max())+1)# making an expanded Cl spectrum (of zeros) that goes all the way to the size of the 2D ell vector\n",
    "    Cl_expanded[0:(Cl.size)] = Cl # fill in the Cls until the max of the Cl vector\n",
    "\n",
    "    # the 2D Cl spectrum is defined on the multiple vector set by the pixel scale\n",
    "    CL2d = Cl_expanded[ell2d.astype(int)]\n",
    "\n",
    "    # now make a realization of the given power spectrum in real space\n",
    "    random_array = np.random.normal(0,1,(N,N))\n",
    "    FT_random_array = np.fft.fft2(random_array) # take FFT since we are in Fourier space \n",
    "    \n",
    "    FT_2d = np.sqrt(CL2d) * FT_random_array\n",
    "    # plt.imshow(np.real(FT_2d))\n",
    "    \n",
    "    # move back from ell space to real space\n",
    "    map_ = np.fft.ifft2(np.fft.fftshift(FT_2d)) \n",
    "    # move back to pixel space for the map\n",
    "    map_ = map_/(pix_size /60.* np.pi/180.)\n",
    "    # we only want to plot the real component\n",
    "    map_ = np.real(map_)\n",
    "\n",
    "    ## return the map\n",
    "    return(map_)\n",
    "  ###############################\n",
    "\n",
    "def Plot_Map(Map_to_Plot,X_width,Y_width):\n",
    "    from mpl_toolkits.axes_grid1 import make_axes_locatable\n",
    "    print(\"map mean:\",np.mean(Map_to_Plot),\"map rms:\",np.std(Map_to_Plot))\n",
    "    plt.gcf().set_size_inches(5, 5)\n",
    "    im = plt.imshow(Map_to_Plot, interpolation=None, origin='lower',cmap=cm.YlOrBr)\n",
    "    ax=plt.gca()\n",
    "    divider = make_axes_locatable(ax)\n",
    "    cax = divider.append_axes(\"right\", size=\"5%\", pad=0.05)\n",
    "\n",
    "    cbar = plt.colorbar(im, cax=cax)\n",
    "    #cbar = plt.colorbar()\n",
    "    im.set_extent([0,X_width,0,Y_width])\n",
    "#     plt.ylabel('angle $[^\\circ]$')\n",
    "#     plt.xlabel('angle $[^\\circ]$')\n",
    "    \n",
    "#     plt.savefig('cmbmap1.png',transparent=False)\n",
    "    plt.show()\n",
    "    \n",
    "    return(0)\n",
    "  ###############################"
   ]
  },
  {
   "cell_type": "code",
   "execution_count": 5,
   "id": "f665ecf9",
   "metadata": {
    "scrolled": true
   },
   "outputs": [
    {
     "name": "stderr",
     "output_type": "stream",
     "text": [
      "<ipython-input-4-3331998dc41d>:12: RuntimeWarning: divide by zero encountered in true_divide\n",
      "  Cl = Dl * 2 * np.pi / (ell*(ell+1.))\n"
     ]
    },
    {
     "name": "stdout",
     "output_type": "stream",
     "text": [
      "map mean: -0.7941483775441971 map rms: 1.5532736019853826\n"
     ]
    },
    {
     "data": {
      "image/png": "[encoded data removed]",
      "text/plain": [
       "<Figure size 360x360 with 2 Axes>"
      ]
     },
     "metadata": {
      "needs_background": "light"
     },
     "output_type": "display_data"
    },
    {
     "data": {
      "text/plain": [
       "0"
      ]
     },
     "execution_count": 5,
     "metadata": {},
     "output_type": "execute_result"
    }
   ],
   "source": [
    "fmap= make_map(N, pix_size,ell,dl)\n",
    "Plot_Map(fmap,X_width,Y_width)"
   ]
  },
  {
   "cell_type": "code",
   "execution_count": 6,
   "id": "69051d7a",
   "metadata": {},
   "outputs": [],
   "source": [
    "#### parameters for setting up the spectrum\n",
    "delta_ell = 5\n",
    "ell_max = lmax"
   ]
  },
  {
   "cell_type": "code",
   "execution_count": 7,
   "id": "00af32f7",
   "metadata": {},
   "outputs": [],
   "source": [
    "\n",
    "\n",
    "if max(ell)< ell_max: \n",
    "        print('WARNING: Your theory curves end before the binned ell_max')\n",
    "\n",
    "def calculate_2d_spectrum(Map1,Map2,delta_ell,ell_max,pix_size,N):\n",
    "    \"calcualtes the power spectrum of a 2d map by FFTing, squaring, and azimuthally averaging\"\n",
    "    N=int(N)\n",
    "    # make a 2d ell coordinate system\n",
    "    ones = np.ones(N)\n",
    "    inds  = (np.arange(N)+.5 - N/2.) /(N-1.)\n",
    "    kX = np.outer(ones,inds) / (pix_size/60. * np.pi/180.)\n",
    "    kY = np.transpose(kX)\n",
    "    K = np.sqrt(kX**2. + kY**2.)\n",
    "    ell_scale_factor = 2. * np.pi \n",
    "    ell2d = K * ell_scale_factor\n",
    "    \n",
    "    # make an array to hold the power spectrum results\n",
    "    N_bins = int(ell_max/delta_ell)\n",
    "    ell_array = np.arange(N_bins)\n",
    "    CL_array = np.zeros(N_bins)\n",
    "    \n",
    "    # get the 2d fourier transform of the map\n",
    "    FMap1 = np.fft.ifft2(np.fft.fftshift(Map1))\n",
    "    FMap2 = np.fft.ifft2(np.fft.fftshift(Map2))\n",
    "    PSMap = np.fft.fftshift(np.real(np.conj(FMap1) * FMap2))\n",
    "    # fill out the spectra\n",
    "    i = 0\n",
    "    while (i < N_bins):\n",
    "        ell_array[i] = (i + 0.5) * delta_ell\n",
    "        inds_in_bin = ((ell2d >= (i* delta_ell)) * (ell2d < ((i+1)* delta_ell))).nonzero()\n",
    "        CL_array[i] = np.mean(PSMap[inds_in_bin])\n",
    "        #print i, ell_array[i], inds_in_bin, CL_array[i]\n",
    "        i = i + 1\n",
    " \n",
    "    # return the power spectrum and ell bins\n",
    "    return(ell_array,CL_array*np.sqrt(pix_size /60.* np.pi/180.)*2.)\n"
   ]
  },
  {
   "cell_type": "code",
   "execution_count": 420,
   "id": "efef18a8",
   "metadata": {
    "scrolled": true
   },
   "outputs": [
    {
     "name": "stderr",
     "output_type": "stream",
     "text": [
      "/Users/arefe/opt/anaconda3/lib/python3.8/site-packages/numpy/core/fromnumeric.py:3419: RuntimeWarning: Mean of empty slice.\n",
      "  return _methods._mean(a, axis=axis, dtype=dtype,\n",
      "/Users/arefe/opt/anaconda3/lib/python3.8/site-packages/numpy/core/_methods.py:188: RuntimeWarning: invalid value encountered in double_scalars\n",
      "  ret = ret.dtype.type(ret / rcount)\n"
     ]
    }
   ],
   "source": [
    "## make a power spectrum\n",
    "binned_ell, binned_spectrum = calculate_2d_spectrum(fmap,fmap,delta_ell,ell_max,pix_size,N)\n",
    "\n"
   ]
  },
  {
   "cell_type": "code",
   "execution_count": 422,
   "id": "e242ae98",
   "metadata": {},
   "outputs": [],
   "source": [
    "dl_out = binned_spectrum* binned_ell * (binned_ell+1.)/2. / np.pi"
   ]
  },
  {
   "cell_type": "code",
   "execution_count": 423,
   "id": "6d97fe2b",
   "metadata": {},
   "outputs": [
    {
     "data": {
      "image/png": "[encoded data removed]",
      "text/plain": [
       "<Figure size 432x288 with 1 Axes>"
      ]
     },
     "metadata": {
      "needs_background": "light"
     },
     "output_type": "display_data"
    }
   ],
   "source": [
    "plt.semilogy(binned_ell,dl_out)\n",
    "plt.semilogy(ell,dl)\n",
    "#plt.plot (binned_ell , dl_out)\n",
    "#plt.plot(ell,dl)\n",
    "plt.ylabel('$D_{\\ell}$ [$\\mu$K$^2$]')\n",
    "plt.xlabel('$\\ell$')\n",
    "plt.show()\n"
   ]
  },
  {
   "cell_type": "code",
   "execution_count": 362,
   "id": "be0abbb1",
   "metadata": {},
   "outputs": [],
   "source": [
    "def fourier_power_spectrum(img_r, img_len, bin_k):\n",
    "    \"\"\"\n",
    "    Compute the Fourier power spectrum given a 2-dimensional real-space map.\n",
    "    \n",
    "    Parameters\n",
    "    ----------\n",
    "        img_r: arraylike\n",
    "            2-dimensional real-space map \n",
    "            \n",
    "        img_len: float\n",
    "            image size \n",
    "            (units define output units of wavenumber and power spectrum)\n",
    "            \n",
    "        bin_k: int\n",
    "            number of bins in Fourier space\n",
    "            \n",
    "    Returns\n",
    "    -------\n",
    "        k: np.ndarray\n",
    "            wavenumber in units of inverse [img_len]\n",
    "            \n",
    "        pk: np.ndarray\n",
    "            power spectrum in units of [img_len]**2\n",
    "    \"\"\"\n",
    "    assert np.ndim(img_r) == 2, 'img_r is not 2D'\n",
    "    img_pix = np.size(img_r, axis=0)  # pixel number per axis\n",
    "    img_dim = np.ndim(img_r)  # image dimension\n",
    "\n",
    "    # This first 'paragraph' is to create masks of indices corresponding to \n",
    "    # one Fourier bin each.\n",
    "    freq = np.fft.fftfreq(n=img_pix, d=img_len/img_pix) * 2*np.pi\n",
    "    rfreq = np.fft.rfftfreq(n=img_pix, d=img_len/img_pix) * 2*np.pi\n",
    "    kx, ky = np.meshgrid(freq, rfreq, indexing='ij')\n",
    "    k_abs = np.sqrt(kx**2. + ky**2.)\n",
    "    # The following complicated line is actually only creating a 1D array \n",
    "    # spanning k-space logarithmically from minimum k_abs to maximum. To \n",
    "    # start slightly below the minimum and finish slightly above the maximum \n",
    "    # I use ceil and floor. To ceil and floor not to the next integer but to \n",
    "    # the next 15th digit, I multiply by 1e15 before flooring and divide by \n",
    "    # the same amount afterwards. Since the ceiled/floored value is actually \n",
    "    # the exponent used for the logspace, going to the next integer would be \n",
    "    # too much, which is why I do this ceil/floor to digit procedure.\n",
    "    k_log = np.logspace(np.floor(np.log10(np.min(k_abs[1:]))*1.e15)/1.e15, np.ceil(np.log10(np.max(k_abs[1:]))*1.e15)/1.e15, bin_k)\n",
    "\n",
    "    img_k = np.fft.rfftn(np.fft.fftshift(img_r)) * (img_len/img_pix)**img_dim\n",
    "    pk = np.empty(np.size(k_log)-1)\n",
    "    for i in range(np.size(k_log)-1):\n",
    "        mask = (k_abs >= k_log[i]) & (k_abs < k_log[i+1])\n",
    "        pk[i] = np.mean(np.abs(img_k[mask])**2.) / img_len**img_dim\n",
    "\n",
    "    k = (k_log[1:] + k_log[:-1]) / 2\n",
    "\n",
    "    return k, pk"
   ]
  },
  {
   "cell_type": "code",
   "execution_count": null,
   "id": "65a73181",
   "metadata": {},
   "outputs": [],
   "source": []
  },
  {
   "cell_type": "code",
   "execution_count": 431,
   "id": "cd1a895f",
   "metadata": {
    "scrolled": true
   },
   "outputs": [
    {
     "name": "stderr",
     "output_type": "stream",
     "text": [
      "/Users/arefe/opt/anaconda3/lib/python3.8/site-packages/numpy/core/fromnumeric.py:3419: RuntimeWarning: Mean of empty slice.\n",
      "  return _methods._mean(a, axis=axis, dtype=dtype,\n",
      "/Users/arefe/opt/anaconda3/lib/python3.8/site-packages/numpy/core/_methods.py:188: RuntimeWarning: invalid value encountered in double_scalars\n",
      "  ret = ret.dtype.type(ret / rcount)\n"
     ]
    }
   ],
   "source": [
    "k_out , pk_out = fourier_power_spectrum(fmap, N*pix_size_rad, 256)"
   ]
  },
  {
   "cell_type": "code",
   "execution_count": 435,
   "id": "dfe8e37f",
   "metadata": {},
   "outputs": [
    {
     "data": {
      "text/plain": [
       "[<matplotlib.lines.Line2D at 0x12bbdf7f0>]"
      ]
     },
     "execution_count": 435,
     "metadata": {},
     "output_type": "execute_result"
    },
    {
     "data": {
      "image/png": "[encoded data removed]",
      "text/plain": [
       "<Figure size 432x288 with 1 Axes>"
      ]
     },
     "metadata": {
      "needs_background": "light"
     },
     "output_type": "display_data"
    }
   ],
   "source": [
    "plt.plot(k_out,np.log( k_out**2/(2*np.pi)**2 * pk_out), '-o', ms=2,  label=\"nside=1024\")\n",
    "plt.plot(binned_ell , np.log(dl_out))\n",
    "plt.plot (ell, np.log(dl))"
   ]
  },
  {
   "cell_type": "code",
   "execution_count": 8,
   "id": "deb8abbb",
   "metadata": {},
   "outputs": [],
   "source": [
    "#Gabor filter\n",
    "\n",
    "def gabor_2d(M, N, sigma, freq):\n",
    "    \"\"\"\n",
    "        Computes a symmetric 2D Gabor filter.\n",
    "        ----------\n",
    "        M, N : int\n",
    "            spatial sizes\n",
    "        sigma : float\n",
    "            bandwidth parameter\n",
    "        freq : float\n",
    "            central frequency (in [0, pi])\n",
    "        theta : float\n",
    "            angle in [0, pi]\n",
    "        offset : int, optional\n",
    "            offset by which the signal starts\n",
    "        Returns\n",
    "        -------\n",
    "        gabor_2d : ndarray\n",
    "            numpy array of size (M, N)\n",
    "    \"\"\"\n",
    "    gab = np.zeros((M, N), np.complex64)\n",
    "    [x, y] = np.mgrid[-1*(M//2):(M//2),-1*(N//2):(N//2)]\n",
    "    #print ()\n",
    "    arg = -(x**2+y**2)/(2*sigma*sigma) + 1.j * freq*np.sqrt(x**2+y**2)\n",
    "    #print (arg.shape)\n",
    "    gab += np.exp(arg)\n",
    "\n",
    "    norm_factor = (2 * np.pi * sigma * sigma)\n",
    "    gab /= norm_factor\n",
    "\n",
    "    return gab"
   ]
  },
  {
   "cell_type": "code",
   "execution_count": 9,
   "id": "5c27b418",
   "metadata": {},
   "outputs": [],
   "source": [
    "def morlet_2d(M, N, sigma, freq):\n",
    "    \"\"\"\n",
    "        Computes a symmetric 2D Morlet filter.\n",
    "        A Morlet filter is the sum of a Gabor filter and a low-pass filter\n",
    "        to ensure that the sum has exactly zero mean in the temporal domain.\n",
    "        It is defined by the following formula in space:\n",
    "        psi(u) = g_{sigma}(u) (e^(i xi^T u) - beta)\n",
    "        where g_{sigma} is a Gaussian envelope, xi is a frequency and beta is\n",
    "        the cancelling parameter.\n",
    "        Parameters\n",
    "        ----------\n",
    "        M, N : int\n",
    "            spatial sizes\n",
    "        sigma : float\n",
    "            bandwidth parameter\n",
    "        xi : float\n",
    "            central frequency (in [0, pi])\n",
    "        theta : float\n",
    "            angle in [0, pi]\n",
    "        Returns\n",
    "        -------\n",
    "        morlet_2d : ndarray\n",
    "            numpy array of size (M, N)\n",
    "    \"\"\"\n",
    "    wv = gabor_2d(M, N, sigma,  freq)\n",
    "    wv_modulus = gabor_2d(M, N, sigma, 0)\n",
    "    K = np.sum(wv) / np.sum(wv_modulus)\n",
    "\n",
    "    mor = wv - K * wv_modulus\n",
    "    return mor"
   ]
  },
  {
   "cell_type": "markdown",
   "id": "70563f94",
   "metadata": {},
   "source": [
    "Scattering transform"
   ]
  },
  {
   "cell_type": "code",
   "execution_count": 10,
   "id": "c4ae1406",
   "metadata": {},
   "outputs": [],
   "source": [
    "#S1 coefficients\n",
    "\n",
    "def s1s2coeff(x,J):\n",
    "    \n",
    "    s1=np.zeros(J)\n",
    "    s2=np.zeros((J,J))\n",
    "    M=x.shape[0]\n",
    "    N=x.shape[1]\n",
    "    for j1 in range(J):\n",
    "        \n",
    "        sigma1=0.8*2**j1\n",
    "        freq1=(3*np.pi)/(4.*2**j1)\n",
    "        \n",
    "        mor1=morlet_2d(M, N, sigma1, freq1)\n",
    "        #phi1=gabor_2d(M,N,sigma1,0)\n",
    "        mor1fft=np.real(np.fft.fft2(np.fft.fftshift(mor1)))\n",
    "        #phi1fft=np.real(np.fft.fft2(np.fft.fftshift(phi1)))\n",
    "\n",
    "        U0=np.fft.fft2(x)\n",
    "        #print (U0)\n",
    "        U1=U0*mor1fft\n",
    "        U1=np.fft.ifft2(U1)\n",
    "        S1=np.abs(U1)\n",
    "        #U1=np.fft.fft2(U1)\n",
    "        #S1=U1*phi1fft\n",
    "        #S1=np.abs(np.fft.ifft2(S1))\n",
    "        #S1=S1.mean()\n",
    "        s1[j1]=np.mean(S1)\n",
    "        \n",
    "        for j2 in range(J):\n",
    "            \n",
    "            sigma2=0.8*2**j2\n",
    "            freq2=(3*np.pi)/(4.*2**j2)\n",
    "            \n",
    "            mor2=morlet_2d(M, N, sigma2, freq2)\n",
    "            #phi2=gabor_2d(M,N,sigma2,0)\n",
    "            mor2fft=np.real(np.fft.fft2(np.fft.fftshift(mor2)))\n",
    "            #phi2fft=np.real(np.fft.fft2(np.fft.fftshift(phi2)))\n",
    "            \n",
    "            U2=S1*mor2fft\n",
    "            U2=np.fft.ifft2(U2)\n",
    "            S2=np.abs(U2)\n",
    "            #U2=np.fft.fft2(U2)\n",
    "            #S2=U2*phi2fft\n",
    "            #S2=np.abs(np.fft.ifft2(S2))\n",
    "            #S2=S2.mean()\n",
    "            s2[j1][j2]=np.mean(S2)\n",
    "            \n",
    "    \n",
    "    return s1,s2"
   ]
  },
  {
   "cell_type": "code",
   "execution_count": null,
   "id": "30b8456d",
   "metadata": {},
   "outputs": [],
   "source": []
  },
  {
   "cell_type": "code",
   "execution_count": 24,
   "id": "47fc24ae",
   "metadata": {},
   "outputs": [],
   "source": [
    "fmap /= np.mean(fmap)"
   ]
  },
  {
   "cell_type": "code",
   "execution_count": null,
   "id": "da2c577c",
   "metadata": {},
   "outputs": [],
   "source": []
  },
  {
   "cell_type": "code",
   "execution_count": 25,
   "id": "d93a51d3",
   "metadata": {},
   "outputs": [
    {
     "name": "stdout",
     "output_type": "stream",
     "text": [
      "CPU times: user 709 ms, sys: 13.8 ms, total: 723 ms\n",
      "Wall time: 745 ms\n"
     ]
    }
   ],
   "source": [
    "%%time\n",
    "\n",
    "cs1,cs2=s1s2coeff(fmap,jmax)"
   ]
  },
  {
   "cell_type": "code",
   "execution_count": 26,
   "id": "d2e827b2",
   "metadata": {},
   "outputs": [
    {
     "data": {
      "text/plain": [
       "array([0.00213117, 0.00646413, 0.02539569, 0.06936399, 0.12447386,\n",
       "       0.17497695, 0.32883231, 0.13255701])"
      ]
     },
     "execution_count": 26,
     "metadata": {},
     "output_type": "execute_result"
    }
   ],
   "source": [
    "cs1"
   ]
  },
  {
   "cell_type": "code",
   "execution_count": 16,
   "id": "cd0df4e9",
   "metadata": {},
   "outputs": [
    {
     "name": "stdout",
     "output_type": "stream",
     "text": [
      "map mean: 1.52587890625e-05 map rms: 0.0039062201975639246\n"
     ]
    },
    {
     "data": {
      "image/png": "[encoded data removed]",
      "text/plain": [
       "<Figure size 360x360 with 2 Axes>"
      ]
     },
     "metadata": {
      "needs_background": "light"
     },
     "output_type": "display_data"
    },
    {
     "data": {
      "text/plain": [
       "0"
      ]
     },
     "execution_count": 16,
     "metadata": {},
     "output_type": "execute_result"
    }
   ],
   "source": [
    "map_delta = np.zeros ((N, N))\n",
    "map_delta[0,0] =1\n",
    "map_delta = map_delta #/(pix_size_rad*N)**2\n",
    "map_delta /= np.mean(map_delta)\n",
    "Plot_Map(map_delta,X_width,Y_width)"
   ]
  },
  {
   "cell_type": "code",
   "execution_count": 27,
   "id": "480a3d0f",
   "metadata": {},
   "outputs": [],
   "source": [
    "delta_cs1 , delta_cs2 = s1s2coeff(map_delta,jmax)"
   ]
  },
  {
   "cell_type": "code",
   "execution_count": 28,
   "id": "3b4cebae",
   "metadata": {},
   "outputs": [
    {
     "data": {
      "text/plain": [
       "array([1.09243317e-05, 8.45541397e-06, 8.14203983e-06, 8.19864869e-06,\n",
       "       8.20576783e-06, 8.20377074e-06, 7.82663169e-06, 4.62948097e-06])"
      ]
     },
     "execution_count": 28,
     "metadata": {},
     "output_type": "execute_result"
    }
   ],
   "source": [
    "delta_cs1"
   ]
  },
  {
   "cell_type": "code",
   "execution_count": 29,
   "id": "52caeada",
   "metadata": {},
   "outputs": [
    {
     "data": {
      "text/plain": [
       "0.001386347723829287"
      ]
     },
     "execution_count": 29,
     "metadata": {},
     "output_type": "execute_result"
    }
   ],
   "source": [
    "S0 =  np.sum(fmap)* (pix_size_rad)**2 \n",
    "S0"
   ]
  },
  {
   "cell_type": "code",
   "execution_count": 30,
   "id": "2cefb062",
   "metadata": {},
   "outputs": [],
   "source": [
    "mu0 = (N*(pix_size_rad))**2"
   ]
  },
  {
   "cell_type": "code",
   "execution_count": 31,
   "id": "ff29bcb8",
   "metadata": {},
   "outputs": [
    {
     "data": {
      "text/plain": [
       "1.0000000000000002"
      ]
     },
     "execution_count": 31,
     "metadata": {},
     "output_type": "execute_result"
    }
   ],
   "source": [
    "S0_normalized = S0/mu0\n",
    "S0_normalized"
   ]
  },
  {
   "cell_type": "code",
   "execution_count": 33,
   "id": "cea02e9e",
   "metadata": {},
   "outputs": [
    {
     "name": "stdout",
     "output_type": "stream",
     "text": [
      "3480.7565003877303\n"
     ]
    }
   ],
   "source": [
    "I0sqrt = np.sum (fmap**2)* (pix_size_rad)**2 /((mu0)**2)\n",
    "print (I0sqrt)"
   ]
  },
  {
   "cell_type": "code",
   "execution_count": 34,
   "id": "01b4a001",
   "metadata": {},
   "outputs": [
    {
     "data": {
      "text/plain": [
       "array([  195.08432186,   764.49603984,  3119.0821944 ,  8460.41757618,\n",
       "       15169.06913501, 21328.84424893, 42014.53762711, 28633.23428417])"
      ]
     },
     "execution_count": 34,
     "metadata": {},
     "output_type": "execute_result"
    }
   ],
   "source": [
    "S1_normalized = cs1 / delta_cs1\n",
    "S1_normalized"
   ]
  },
  {
   "cell_type": "code",
   "execution_count": 35,
   "id": "f651fc1e",
   "metadata": {},
   "outputs": [],
   "source": [
    "S2_normalized = cs2 / delta_cs2\n"
   ]
  },
  {
   "cell_type": "code",
   "execution_count": null,
   "id": "715b5f7a",
   "metadata": {},
   "outputs": [],
   "source": []
  },
  {
   "cell_type": "code",
   "execution_count": 39,
   "id": "fc91c0d9",
   "metadata": {},
   "outputs": [],
   "source": [
    "S2_sum = 0\n",
    "for i in range (jmax):\n",
    "    for j in range (i+1 , jmax):\n",
    "        S2_sum+=S2_normalized[i,j]**2"
   ]
  },
  {
   "cell_type": "code",
   "execution_count": 41,
   "id": "34386a44",
   "metadata": {},
   "outputs": [
    {
     "data": {
      "text/plain": [
       "768230323.4929913"
      ]
     },
     "execution_count": 41,
     "metadata": {},
     "output_type": "execute_result"
    }
   ],
   "source": [
    "S0**2+np.sum(S1_normalized**2)+S2_sum\n"
   ]
  },
  {
   "cell_type": "code",
   "execution_count": null,
   "id": "e50b6757",
   "metadata": {},
   "outputs": [],
   "source": []
  },
  {
   "cell_type": "code",
   "execution_count": 231,
   "id": "04770bf6",
   "metadata": {},
   "outputs": [],
   "source": [
    "def gaus_func (x, y, sigma):\n",
    "    return np.exp(-(x**2+y**2)/(2*sigma**2))/np.sqrt(2*np.pi*sigma**2)"
   ]
  },
  {
   "cell_type": "code",
   "execution_count": 251,
   "id": "84380793",
   "metadata": {},
   "outputs": [],
   "source": [
    "map_gaus = np.zeros ((N,N))\n",
    "sigma = 1\n",
    "for i in range (N):\n",
    "    for j in range (N):\n",
    "        map_gaus[i,j] = gaus_func(i, j, sigma)\n",
    "        \n",
    "map_gaus/= np.sum(map_gaus)"
   ]
  },
  {
   "cell_type": "code",
   "execution_count": 248,
   "id": "e372eebe",
   "metadata": {},
   "outputs": [
    {
     "name": "stdout",
     "output_type": "stream",
     "text": [
      "map mean: 1.1695791703599443e-06 map rms: 0.0005400974686121044\n"
     ]
    },
    {
     "data": {
      "image/png": "[encoded data removed]",
      "text/plain": [
       "<Figure size 360x360 with 2 Axes>"
      ]
     },
     "metadata": {
      "needs_background": "light"
     },
     "output_type": "display_data"
    },
    {
     "data": {
      "text/plain": [
       "0"
      ]
     },
     "execution_count": 248,
     "metadata": {},
     "output_type": "execute_result"
    }
   ],
   "source": [
    "Plot_Map(map_gaus, X_width , Y_width)"
   ]
  },
  {
   "cell_type": "code",
   "execution_count": null,
   "id": "8deb4be5",
   "metadata": {},
   "outputs": [],
   "source": [
    "gaus_cs1 , gaus_cs2 = s1s2coeff(map_gaus,jmax)\n"
   ]
  },
  {
   "cell_type": "code",
   "execution_count": 254,
   "id": "2d3f3684",
   "metadata": {},
   "outputs": [
    {
     "data": {
      "text/plain": [
       "array([2.81942830e-07, 3.47087065e-07, 4.64924906e-07, 4.99555645e-07,\n",
       "       5.09210569e-07, 5.11888517e-07, 5.12538979e-07, 5.12701439e-07,\n",
       "       4.89147839e-07, 2.89339636e-07])"
      ]
     },
     "execution_count": 254,
     "metadata": {},
     "output_type": "execute_result"
    }
   ],
   "source": [
    "gaus_cs1"
   ]
  },
  {
   "cell_type": "code",
   "execution_count": 266,
   "id": "a889dfa1",
   "metadata": {},
   "outputs": [],
   "source": [
    "test_cs1 = np.zeros (jmax)\n",
    "M = N\n",
    "for j1 in range(jmax):\n",
    "\n",
    "    sigma1=0.8*2**j1\n",
    "    freq1=(3*np.pi)/(4.*2**j1)\n",
    "\n",
    "    mor1=morlet_2d(M, N, sigma1, freq1)\n",
    "    #mor1fft=np.real(np.fft.fft2(mor1))\n",
    "    #phi1fft=np.real(np.fft.fft2(np.fft.fftshift(phi1)))\n",
    "\n",
    "    #U0=np.fft.fft2(x)\n",
    "    #print (U0)\n",
    "    #U1=U0*mor1fft\n",
    "    #U1=np.fft.ifft2(mor1fft)\n",
    "    #phi1=gabor_2d(M,N,sigma1,0)\n",
    "    test_cs1 [j1] = np.mean(np.abs(mor1))"
   ]
  },
  {
   "cell_type": "code",
   "execution_count": null,
   "id": "da50f784",
   "metadata": {},
   "outputs": [],
   "source": []
  },
  {
   "cell_type": "code",
   "execution_count": 267,
   "id": "c031ec91",
   "metadata": {},
   "outputs": [
    {
     "data": {
      "text/plain": [
       "array([8.64735398e-07, 8.03224395e-07, 7.95817357e-07, 7.94977268e-07,\n",
       "       7.94873529e-07, 7.94860568e-07, 7.94858977e-07, 7.94857669e-07,\n",
       "       7.55740928e-07, 3.20178827e-07])"
      ]
     },
     "execution_count": 267,
     "metadata": {},
     "output_type": "execute_result"
    }
   ],
   "source": [
    "test_cs1 "
   ]
  },
  {
   "cell_type": "code",
   "execution_count": null,
   "id": "0096e670",
   "metadata": {},
   "outputs": [],
   "source": []
  }
 ],
 "metadata": {
  "kernelspec": {
   "display_name": "Python 3",
   "language": "python",
   "name": "python3"
  },
  "language_info": {
   "codemirror_mode": {
    "name": "ipython",
    "version": 3
   },
   "file_extension": ".py",
   "mimetype": "text/x-python",
   "name": "python",
   "nbconvert_exporter": "python",
   "pygments_lexer": "ipython3",
   "version": "3.8.8"
  }
 },
 "nbformat": 4,
 "nbformat_minor": 5
}
