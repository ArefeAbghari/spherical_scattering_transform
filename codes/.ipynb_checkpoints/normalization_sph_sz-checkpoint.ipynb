{
 "cells": [
  {
   "cell_type": "code",
   "execution_count": 2,
   "id": "6802177b",
   "metadata": {},
   "outputs": [],
   "source": [
    "import numpy as np\n",
    "import matplotlib.pyplot as plt\n",
    "import astropy.io.fits as fits\n",
    "import pandas as pd\n",
    "import healpy as hp\n",
    "import time\n",
    "import warnings\n",
    "from pixell import reproject\n",
    "from classy import Class\n",
    "%matplotlib inline\n",
    "import pysm3 \n",
    "import ST"
   ]
  },
  {
   "cell_type": "code",
   "execution_count": 3,
   "id": "950af49d",
   "metadata": {},
   "outputs": [],
   "source": [
    "res_2048_arcmin = hp.nside2resol(2048, arcmin=True)\n",
    "res_1024_arcmin = hp.nside2resol(1024, arcmin=True)\n",
    "res_0512_arcmin = hp.nside2resol(512, arcmin=True)\n",
    "res_0256_arcmin = hp.nside2resol(256, arcmin=True)\n",
    "res_2048 = hp.nside2resol(2048, arcmin=False)\n",
    "res_1024 = hp.nside2resol(1024, arcmin=False)\n",
    "res_0512 = hp.nside2resol(512, arcmin=False)\n",
    "res_0256 = hp.nside2resol(256, arcmin=False)"
   ]
  },
  {
   "cell_type": "code",
   "execution_count": 4,
   "id": "e690bbea",
   "metadata": {},
   "outputs": [],
   "source": [
    "map_sz = hp.read_map (\"/Users/arefe/Projects/ScatteringTransform/maps/COM_CompMap_Compton-SZMap-milca-ymaps_2048_R2.00.fits\")"
   ]
  },
  {
   "cell_type": "code",
   "execution_count": 4,
   "id": "45750ae3",
   "metadata": {},
   "outputs": [],
   "source": [
    "#map_sz = hp.read_map (\"/Users/arefe/Projects/ScatteringTransform/maps/COM_CompMap_SZ-commander_0256_R2.00.fits\")"
   ]
  },
  {
   "cell_type": "code",
   "execution_count": 5,
   "id": "d0d4a4b6",
   "metadata": {},
   "outputs": [],
   "source": [
    "map_sz_0256 = hp.ud_grade(map_sz , nside_out=256)"
   ]
  },
  {
   "cell_type": "code",
   "execution_count": 8,
   "id": "c2877398",
   "metadata": {},
   "outputs": [
    {
     "name": "stdout",
     "output_type": "stream",
     "text": [
      "256\n"
     ]
    }
   ],
   "source": [
    "nside_0256 = hp.pixelfunc.get_nside(map_sz_0256)\n",
    "print (nside_0256)"
   ]
  },
  {
   "cell_type": "code",
   "execution_count": 6,
   "id": "87eaf9cf",
   "metadata": {},
   "outputs": [],
   "source": [
    "cl_sz_0256 = hp.anafast(map_sz_0256)"
   ]
  },
  {
   "cell_type": "code",
   "execution_count": 9,
   "id": "c3b36cf6",
   "metadata": {},
   "outputs": [],
   "source": [
    "lmax_0256=3*nside_0256-1\n",
    "ell_0256=np.arange(0,lmax_0256+1)\n",
    "norm_0256 = ell_0256 * (ell_0256+1) / (2*np.pi)\n",
    "dl_sz_0256 = cl_sz_0256*norm_0256"
   ]
  },
  {
   "cell_type": "code",
   "execution_count": 10,
   "id": "c508558b",
   "metadata": {},
   "outputs": [
    {
     "name": "stderr",
     "output_type": "stream",
     "text": [
      "<ipython-input-10-a69032c6eb21>:1: RuntimeWarning: divide by zero encountered in true_divide\n",
      "  ellsc_0256 = 360*60/ell_0256\n",
      "<ipython-input-10-a69032c6eb21>:3: RuntimeWarning: divide by zero encountered in log\n",
      "  plt.plot(ellsc_0256,np.log(dl_sz_0256))\n"
     ]
    },
    {
     "data": {
      "text/plain": [
       "Text(0, 0.5, '$D_l$')"
      ]
     },
     "execution_count": 10,
     "metadata": {},
     "output_type": "execute_result"
    },
    {
     "data": {
      "image/png": "[encoded data removed]",
      "text/plain": [
       "<Figure size 432x288 with 1 Axes>"
      ]
     },
     "metadata": {
      "needs_background": "light"
     },
     "output_type": "display_data"
    }
   ],
   "source": [
    "ellsc_0256 = 360*60/ell_0256\n",
    "#ellsc = ellsc[::-1]\n",
    "plt.plot(ellsc_0256,np.log(dl_sz_0256))\n",
    "plt.xlabel(\"scale\")\n",
    "plt.ylabel(\"$D_l$\")"
   ]
  },
  {
   "cell_type": "code",
   "execution_count": 11,
   "id": "2a0c1213",
   "metadata": {},
   "outputs": [
    {
     "name": "stderr",
     "output_type": "stream",
     "text": [
      "<ipython-input-11-c539661f4690>:6: RuntimeWarning: divide by zero encountered in true_divide\n",
      "  ellsc_0256 = 360*60/ell_0256\n",
      "<ipython-input-11-c539661f4690>:8: RuntimeWarning: divide by zero encountered in log\n",
      "  plt.plot(ellsc_0256,np.log(dl_sz_0256))\n"
     ]
    },
    {
     "data": {
      "text/plain": [
       "Text(0, 0.5, '$D_l$')"
      ]
     },
     "execution_count": 11,
     "metadata": {},
     "output_type": "execute_result"
    },
    {
     "data": {
      "image/png": "[encoded data removed]",
      "text/plain": [
       "<Figure size 432x288 with 1 Axes>"
      ]
     },
     "metadata": {
      "needs_background": "light"
     },
     "output_type": "display_data"
    }
   ],
   "source": [
    "lmax_0256=3*nside_0256-1\n",
    "ell_0256=np.arange(0,lmax_0256+1)\n",
    "norm_0256 = ell_0256 * (ell_0256+1) / (2*np.pi)\n",
    "dl_sz_0256 = cl_sz_0256*norm_0256\n",
    "\n",
    "ellsc_0256 = 360*60/ell_0256\n",
    "#ellsc = ellsc[::-1]\n",
    "plt.plot(ellsc_0256,np.log(dl_sz_0256))\n",
    "plt.xlabel(\"scale\")\n",
    "plt.ylabel(\"$D_l$\")"
   ]
  },
  {
   "cell_type": "code",
   "execution_count": 12,
   "id": "beca8c8b",
   "metadata": {},
   "outputs": [],
   "source": [
    "resol_0256 = hp.nside2resol(nside_0256 , arcmin = False )\n",
    "resol_0256_arcmin = hp.nside2resol(nside_0256 , arcmin=True)"
   ]
  },
  {
   "cell_type": "code",
   "execution_count": 13,
   "id": "af22680e",
   "metadata": {},
   "outputs": [
    {
     "name": "stdout",
     "output_type": "stream",
     "text": [
      "9\n"
     ]
    }
   ],
   "source": [
    "jmax = int(np.floor(np.log(2*np.pi *0.75 /res_0256 / 2)/np.log(2)))\n",
    "print(jmax)\n",
    "theta_bin = 10000"
   ]
  },
  {
   "cell_type": "code",
   "execution_count": 16,
   "id": "23cc21e1",
   "metadata": {},
   "outputs": [],
   "source": [
    "Jf=np.arange(jmax)\n",
    "scale_0256=2**Jf*((2*resol_0256_arcmin)/0.75)"
   ]
  },
  {
   "cell_type": "code",
   "execution_count": 17,
   "id": "395accb6",
   "metadata": {
    "scrolled": true
   },
   "outputs": [
    {
     "name": "stderr",
     "output_type": "stream",
     "text": [
      "/Users/arefe/opt/anaconda3/lib/python3.8/site-packages/healpy/sphtfunc.py:1242: ComplexWarning: Casting complex values to real discards the imaginary part\n",
      "  window[0] = trapz(beam * p0 * st, theta)\n",
      "/Users/arefe/opt/anaconda3/lib/python3.8/site-packages/healpy/sphtfunc.py:1243: ComplexWarning: Casting complex values to real discards the imaginary part\n",
      "  window[1] = trapz(beam * p1 * st, theta)\n",
      "/Users/arefe/opt/anaconda3/lib/python3.8/site-packages/healpy/sphtfunc.py:1247: ComplexWarning: Casting complex values to real discards the imaginary part\n",
      "  window[l] = trapz(beam * p2 * st, theta)\n"
     ]
    }
   ],
   "source": [
    "morlet_arr_0256 = ST.morlet_arr (resol_0256, jmax , lmax_0256, theta_bin)\n",
    "#gaus_l_0256 = s1.gaus_arr (resol_0256, jmax, lmax_0256, theta_bin)"
   ]
  },
  {
   "cell_type": "code",
   "execution_count": 18,
   "id": "a86e86e7",
   "metadata": {},
   "outputs": [
    {
     "name": "stdout",
     "output_type": "stream",
     "text": [
      "0\n",
      "1\n",
      "2\n",
      "3\n",
      "4\n",
      "5\n",
      "6\n",
      "7\n",
      "8\n",
      "CPU times: user 2.18 s, sys: 106 ms, total: 2.28 s\n",
      "Wall time: 958 ms\n"
     ]
    }
   ],
   "source": [
    "%%time \n",
    "s1_sz_0256 , i1_sz_0256 = ST.compS1 (map_sz_0256 , morlet_arr_0256, jmax,  nside_0256 )"
   ]
  },
  {
   "cell_type": "code",
   "execution_count": 19,
   "id": "08a550cc",
   "metadata": {},
   "outputs": [
    {
     "name": "stdout",
     "output_type": "stream",
     "text": [
      "0\n",
      "1\n",
      "2\n",
      "3\n",
      "4\n",
      "5\n",
      "6\n",
      "7\n",
      "8\n",
      "CPU times: user 19.5 s, sys: 641 ms, total: 20.1 s\n",
      "Wall time: 7.12 s\n"
     ]
    }
   ],
   "source": [
    "%%time \n",
    "s2_sz_0256 , i2_sz_0256  = ST.compS2 ( i1_sz_0256, morlet_arr_0256 , jmax,  nside_0256 )"
   ]
  },
  {
   "cell_type": "code",
   "execution_count": 21,
   "id": "a26c508b",
   "metadata": {},
   "outputs": [
    {
     "name": "stdout",
     "output_type": "stream",
     "text": [
      "2.7175493e-06\n"
     ]
    }
   ],
   "source": [
    "S0 =  np.mean (np.abs(map_sz_0256))\n",
    "print(S0)"
   ]
  },
  {
   "cell_type": "code",
   "execution_count": 25,
   "id": "2580cc19",
   "metadata": {},
   "outputs": [],
   "source": [
    "alm_sz_0256 = hp.map2alm (map_sz_0256)\n",
    "almsize_0256 = alm_sz_0256.shape[0]\n",
    "mapsize_0256 = map_sz_0256.shape[0]"
   ]
  },
  {
   "cell_type": "code",
   "execution_count": 26,
   "id": "ada08f3f",
   "metadata": {},
   "outputs": [],
   "source": [
    "alm_delta_0256 = np.zeros(almsize_0256,dtype=np.complex_)\n",
    "alm_delta_0256[:] = 1+0j\n",
    "map_delta_0256 = hp.alm2map (alm_delta_0256, nside_0256)"
   ]
  },
  {
   "cell_type": "code",
   "execution_count": 29,
   "id": "1231eaae",
   "metadata": {},
   "outputs": [
    {
     "name": "stdout",
     "output_type": "stream",
     "text": [
      "0\n",
      "1\n",
      "2\n",
      "3\n",
      "4\n",
      "5\n",
      "6\n",
      "7\n",
      "8\n",
      "0\n",
      "1\n",
      "2\n",
      "3\n",
      "4\n",
      "5\n",
      "6\n",
      "7\n",
      "8\n"
     ]
    }
   ],
   "source": [
    "S1_delta , i1_delta = ST.compS1 (map_delta_0256 , morlet_arr_0256 , jmax, nside_0256)\n",
    "S2_delta , i2_delta = ST.compS2 (i1_delta, morlet_arr_0256, jmax, nside_0256)"
   ]
  },
  {
   "cell_type": "code",
   "execution_count": 30,
   "id": "f0acea52",
   "metadata": {},
   "outputs": [],
   "source": [
    "S2_normalized = s2_sz_0256/S2_delta\n",
    "S1_normalized = s1_sz_0256/S1_delta"
   ]
  },
  {
   "cell_type": "code",
   "execution_count": 31,
   "id": "31c61a9a",
   "metadata": {},
   "outputs": [
    {
     "data": {
      "text/plain": [
       "array([1.17547031e-07, 2.12224429e-07, 3.72296118e-07, 4.09355563e-07,\n",
       "       4.57551425e-07, 5.44490937e-07, 5.49664568e-07, 3.02772344e-07,\n",
       "       1.49904571e-07])"
      ]
     },
     "execution_count": 31,
     "metadata": {},
     "output_type": "execute_result"
    }
   ],
   "source": [
    "S1_normalized"
   ]
  },
  {
   "cell_type": "code",
   "execution_count": 32,
   "id": "6568b790",
   "metadata": {},
   "outputs": [
    {
     "name": "stdout",
     "output_type": "stream",
     "text": [
      "7.4195433e-10\n"
     ]
    }
   ],
   "source": [
    "I0sqrt = np.mean (map_sz_0256**2)\n",
    "print (I0sqrt)"
   ]
  },
  {
   "cell_type": "code",
   "execution_count": 33,
   "id": "5366da74",
   "metadata": {},
   "outputs": [],
   "source": [
    "S2_sum = 0\n",
    "for i in range (jmax):\n",
    "    for j in range (i+1 , jmax):\n",
    "        S2_sum+=S2_normalized[i,j]**2"
   ]
  },
  {
   "cell_type": "code",
   "execution_count": 34,
   "id": "d2137e31",
   "metadata": {},
   "outputs": [
    {
     "data": {
      "text/plain": [
       "1.0868857773681414e-11"
      ]
     },
     "execution_count": 34,
     "metadata": {},
     "output_type": "execute_result"
    }
   ],
   "source": [
    "S0**2+np.sum (S1_normalized**2)+S2_sum"
   ]
  },
  {
   "cell_type": "code",
   "execution_count": null,
   "id": "4a3a3e0a",
   "metadata": {},
   "outputs": [],
   "source": []
  }
 ],
 "metadata": {
  "kernelspec": {
   "display_name": "Python 3",
   "language": "python",
   "name": "python3"
  },
  "language_info": {
   "codemirror_mode": {
    "name": "ipython",
    "version": 3
   },
   "file_extension": ".py",
   "mimetype": "text/x-python",
   "name": "python",
   "nbconvert_exporter": "python",
   "pygments_lexer": "ipython3",
   "version": "3.8.8"
  }
 },
 "nbformat": 4,
 "nbformat_minor": 5
}
