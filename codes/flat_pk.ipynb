{
 "cells": [
  {
   "cell_type": "code",
   "execution_count": 15,
   "id": "310fdeae",
   "metadata": {},
   "outputs": [],
   "source": [
    "import matplotlib.image as mpimg\n",
    "import numpy as np\n",
    "import scipy.stats as stats\n",
    "import matplotlib.pyplot as pl\n",
    "\n"
   ]
  },
  {
   "cell_type": "code",
   "execution_count": 2,
   "id": "5957dfa5",
   "metadata": {},
   "outputs": [],
   "source": [
    "#Gabor filter\n",
    "\n",
    "def gabor_2d(M, N, sigma, freq):\n",
    "    \"\"\"\n",
    "        Computes a symmetric 2D Gabor filter.\n",
    "        ----------\n",
    "        M, N : int\n",
    "            spatial sizes\n",
    "        sigma : float\n",
    "            bandwidth parameter\n",
    "        freq : float\n",
    "            central frequency (in [0, pi])\n",
    "        theta : float\n",
    "            angle in [0, pi]\n",
    "        offset : int, optional\n",
    "            offset by which the signal starts\n",
    "        Returns\n",
    "        -------\n",
    "        gabor_2d : ndarray\n",
    "            numpy array of size (M, N)\n",
    "    \"\"\"\n",
    "    gab = np.zeros((M, N), np.complex64)\n",
    "    [x, y] = np.mgrid[-1*(M//2):(M//2),-1*(N//2):(N//2)]\n",
    "    #print ()\n",
    "    arg = -(x**2+y**2)/(2*sigma*sigma) + 1.j * freq*np.sqrt(x**2+y**2)\n",
    "    #print (arg.shape)\n",
    "    gab += np.exp(arg)\n",
    "\n",
    "    norm_factor = (2 * np.pi * sigma * sigma)\n",
    "    gab /= norm_factor\n",
    "\n",
    "    return gab"
   ]
  },
  {
   "cell_type": "code",
   "execution_count": 3,
   "id": "a553a89d",
   "metadata": {},
   "outputs": [],
   "source": [
    "def morlet_2d(M, N, sigma, freq):\n",
    "    \"\"\"\n",
    "        Computes a symmetric 2D Morlet filter.\n",
    "        A Morlet filter is the sum of a Gabor filter and a low-pass filter\n",
    "        to ensure that the sum has exactly zero mean in the temporal domain.\n",
    "        It is defined by the following formula in space:\n",
    "        psi(u) = g_{sigma}(u) (e^(i xi^T u) - beta)\n",
    "        where g_{sigma} is a Gaussian envelope, xi is a frequency and beta is\n",
    "        the cancelling parameter.\n",
    "        Parameters\n",
    "        ----------\n",
    "        M, N : int\n",
    "            spatial sizes\n",
    "        sigma : float\n",
    "            bandwidth parameter\n",
    "        xi : float\n",
    "            central frequency (in [0, pi])\n",
    "        theta : float\n",
    "            angle in [0, pi]\n",
    "        Returns\n",
    "        -------\n",
    "        morlet_2d : ndarray\n",
    "            numpy array of size (M, N)\n",
    "    \"\"\"\n",
    "    wv = gabor_2d(M, N, sigma,  freq)\n",
    "    wv_modulus = gabor_2d(M, N, sigma, 0)\n",
    "    K = np.sum(wv) / np.sum(wv_modulus)\n",
    "\n",
    "    mor = wv - K * wv_modulus\n",
    "    mor = mor / np.mean(np.abs(mor)) / (M*N)\n",
    "    \n",
    "    #norm = \n",
    "    return mor"
   ]
  },
  {
   "cell_type": "code",
   "execution_count": 4,
   "id": "05bb4934",
   "metadata": {},
   "outputs": [],
   "source": [
    "def comp_s1(image, morlet_arr, jmax, gaus_arr = None):\n",
    "    \n",
    "    s1_arr = np.zeros (jmax)\n",
    "    i1_arr = []\n",
    "    for j1 in range(jmax):\n",
    "        \n",
    "        #sigma1=0.8*2**j1\n",
    "        #freq1=(3*np.pi)/(4.*2**j1)\n",
    "        \n",
    "        #mor1=morlet_2d(M, N, sigma1, freq1)\n",
    "        #phi1=gabor_2d(M,N,sigma1,0)\n",
    "        \n",
    "        mor = morlet_arr[j1]\n",
    "        mor_fft=np.fft.fft2(np.fft.fftshift(mor))\n",
    "        \n",
    "        #freqcol = np.fft.fftfreq(morlet_arr[j1].shape[1])\n",
    "        #freqrow = np.fft.fftfreq(morlet_arr[j1].shape[0])\n",
    "        #norm = np.sum (np.abs(mor_fft)**2 * freqcol[1]*freqrow[0])\n",
    "        \n",
    "        img_fft = np.fft.fft2(image)\n",
    "        I1_fft = img_fft * mor_fft\n",
    "        I1 = np.abs (np.fft.ifft2(I1_fft))\n",
    "        \n",
    "        \n",
    "        if gaus_arr == None:\n",
    "            S1 = I1\n",
    "        else:\n",
    "            phi = gaus_arr[j1]\n",
    "            phi_fft = np.real(np.fft.fft2(np.fft.fftshift(phi)))\n",
    "            U1_fft = np.fft.fft2(I1)\n",
    "            S1_fft = U1*phi_fft\n",
    "            S1 = np.real(np.fft.ifft2(S1_fft))\n",
    "        \n",
    "        i1_arr.append(S1)\n",
    "        s1_arr[j1] = np.mean(S1)\n",
    "    \n",
    "    return s1_arr , i1_arr"
   ]
  },
  {
   "cell_type": "code",
   "execution_count": 5,
   "id": "be380b44",
   "metadata": {},
   "outputs": [],
   "source": [
    "def comp_s2 (i1_arr, morlet_arr, jmax, gaus_arr = None ):\n",
    "    \n",
    "    s2_arr = np.zeros ((jmax,jmax))\n",
    "    i2_arr = []\n",
    "    for j1 in range(jmax):\n",
    "        i2_tmp = []\n",
    "        i1 = i1_arr[j1]\n",
    "        i1_fft = np.fft.fft2(i1)\n",
    "        \n",
    "        for j2 in range (jmax):\n",
    "        \n",
    "            mor = morlet_arr[j2]\n",
    "            mor_fft=np.fft.fft2(np.fft.fftshift(mor))\n",
    "\n",
    "            \n",
    "            I2_fft = i1_fft * mor_fft\n",
    "            I2 = np.abs (np.fft.ifft2(I2_fft))\n",
    "\n",
    "\n",
    "            if gaus_arr == None:\n",
    "                S2 = I2\n",
    "            else:\n",
    "                phi = gaus_arr[j2]\n",
    "                phi_fft = np.real(np.fft.fft2(np.fft.fftshift(phi)))\n",
    "                U2_fft = np.fft.fft2(I2)\n",
    "                S2_fft = I2*phi_fft\n",
    "                S2 = np.abs(np.fft.ifft2(S2_fft))\n",
    "\n",
    "            s2_arr[j1,j2] = np.mean(S2)\n",
    "            i2_tmp.append(S2)\n",
    "        i2_arr.append (i2_tmp)\n",
    "    return s2_arr , i2_arr"
   ]
  },
  {
   "cell_type": "code",
   "execution_count": 6,
   "id": "c8669fcb",
   "metadata": {},
   "outputs": [],
   "source": [
    "def comp_s3 (i2_arr, morlet_arr, jmax, gaus_arr = None ):\n",
    "    \n",
    "    s3_arr = np.zeros ((jmax,jmax,jmax))\n",
    "    #i3_arr = []\n",
    "    for j1 in range(jmax):\n",
    "        for j2 in range (j1+1 ,jmax):\n",
    "            #i3_tmp = []\n",
    "            i2 = i2_arr[j1][j2]\n",
    "            i2_fft = np.fft.fft2(i2)\n",
    "        \n",
    "            for j3 in range (jmax):\n",
    "        \n",
    "                mor = morlet_arr[j3]\n",
    "                mor_fft=np.fft.fft2(np.fft.fftshift(mor))\n",
    "\n",
    "\n",
    "                I3_fft = i2_fft * mor_fft\n",
    "                I3 = np.abs (np.fft.ifft2(I3_fft))\n",
    "\n",
    "\n",
    "                if gaus_arr == None:\n",
    "                    S3 = I3\n",
    "                else:\n",
    "                    phi = gaus_arr[j3]\n",
    "                    phi_fft = np.real(np.fft.fft2(np.fft.fftshift(phi)))\n",
    "                    U3_fft = np.fft.fft2(I3)\n",
    "                    S3_fft = I3*phi_fft\n",
    "                    S3 = np.abs(np.fft.ifft2(S3_fft))\n",
    "\n",
    "                s3_arr[j1,j2,j3] = np.mean(S3)\n",
    "                #i3_tmp.append(S2)\n",
    "        #i2_arr.append (i2_tmp)\n",
    "    return s3_arr #, i2_arr"
   ]
  },
  {
   "cell_type": "code",
   "execution_count": null,
   "id": "987c76b7",
   "metadata": {},
   "outputs": [],
   "source": []
  },
  {
   "cell_type": "code",
   "execution_count": null,
   "id": "f96206da",
   "metadata": {},
   "outputs": [],
   "source": []
  },
  {
   "cell_type": "code",
   "execution_count": null,
   "id": "f6da7822",
   "metadata": {},
   "outputs": [],
   "source": []
  },
  {
   "cell_type": "code",
   "execution_count": 16,
   "id": "4a987327",
   "metadata": {},
   "outputs": [],
   "source": [
    "image = mpimg.imread(\"/Users/arefe/Downloads/cat.jpg\")[:,:,0]\n",
    "\n",
    "xnpix = image.shape[1]\n",
    "ynpix = image.shape[0]\n",
    "\n",
    "fourier_image = np.fft.fftn(image)\n",
    "fourier_amplitudes = np.abs(fourier_image)**2\n",
    "\n",
    "xkfreq = np.fft.fftfreq(xnpix) * xnpix\n",
    "ykfreq = np.fft.fftfreq(ynpix) * ynpix\n",
    "kfreq2D = np.meshgrid(xkfreq, ykfreq)\n",
    "knrm = np.sqrt(kfreq2D[0]**2 + kfreq2D[1]**2)\n",
    "\n",
    "knrm = knrm.flatten()"
   ]
  },
  {
   "cell_type": "code",
   "execution_count": 17,
   "id": "ca5e8de8",
   "metadata": {},
   "outputs": [
    {
     "data": {
      "text/plain": [
       "(800, 1200)"
      ]
     },
     "execution_count": 17,
     "metadata": {},
     "output_type": "execute_result"
    }
   ],
   "source": [
    "fourier_amplitudes.shape"
   ]
  },
  {
   "cell_type": "code",
   "execution_count": 19,
   "id": "bdc2e41e",
   "metadata": {},
   "outputs": [
    {
     "data": {
      "image/png": "[encoded data removed]",
      "text/plain": [
       "<Figure size 432x288 with 1 Axes>"
      ]
     },
     "metadata": {
      "needs_background": "light"
     },
     "output_type": "display_data"
    }
   ],
   "source": [
    "fourier_amplitudes = fourier_amplitudes.flatten()\n",
    "\n",
    "kbins = np.arange(0.5, min(xnpix,ynpix)//2+1, 1.)\n",
    "kvals = 0.5 * (kbins[1:] + kbins[:-1])\n",
    "Abins, _, _ = stats.binned_statistic(knrm, fourier_amplitudes,\n",
    "                                     statistic = \"mean\",\n",
    "                                     bins = kbins)\n",
    "Abins *= np.pi * (kbins[1:]**2 - kbins[:-1]**2)\n",
    "\n",
    "pl.loglog(360/kvals, Abins)\n",
    "pl.xlabel(\"$k$\")\n",
    "pl.ylabel(\"$P(k)$\")\n",
    "pl.tight_layout()\n",
    "pl.savefig(\"cloud_power_spectrum.png\", dpi = 300, bbox_inches = \"tight\")"
   ]
  },
  {
   "cell_type": "code",
   "execution_count": null,
   "id": "b7476a20",
   "metadata": {},
   "outputs": [],
   "source": []
  },
  {
   "cell_type": "code",
   "execution_count": 11,
   "id": "2e7326f6",
   "metadata": {},
   "outputs": [
    {
     "ename": "NameError",
     "evalue": "name 'image' is not defined",
     "output_type": "error",
     "traceback": [
      "\u001b[0;31m---------------------------------------------------------------------------\u001b[0m",
      "\u001b[0;31mNameError\u001b[0m                                 Traceback (most recent call last)",
      "\u001b[0;32m<ipython-input-11-8f36b92c093a>\u001b[0m in \u001b[0;36m<module>\u001b[0;34m\u001b[0m\n\u001b[1;32m      1\u001b[0m \u001b[0;31m# dimensions of the picture\u001b[0m\u001b[0;34m\u001b[0m\u001b[0;34m\u001b[0m\u001b[0;34m\u001b[0m\u001b[0m\n\u001b[1;32m      2\u001b[0m \u001b[0;31m# x and y sizes should be even numbers\u001b[0m\u001b[0;34m\u001b[0m\u001b[0;34m\u001b[0m\u001b[0;34m\u001b[0m\u001b[0m\n\u001b[0;32m----> 3\u001b[0;31m \u001b[0mx_dim\u001b[0m \u001b[0;34m=\u001b[0m \u001b[0mnp\u001b[0m\u001b[0;34m.\u001b[0m\u001b[0mshape\u001b[0m \u001b[0;34m(\u001b[0m\u001b[0mimage\u001b[0m\u001b[0;34m)\u001b[0m\u001b[0;34m[\u001b[0m\u001b[0;36m0\u001b[0m\u001b[0;34m]\u001b[0m\u001b[0;34m\u001b[0m\u001b[0;34m\u001b[0m\u001b[0m\n\u001b[0m\u001b[1;32m      4\u001b[0m \u001b[0my_dim\u001b[0m \u001b[0;34m=\u001b[0m \u001b[0mnp\u001b[0m\u001b[0;34m.\u001b[0m\u001b[0mshape\u001b[0m \u001b[0;34m(\u001b[0m\u001b[0mimage\u001b[0m\u001b[0;34m)\u001b[0m\u001b[0;34m[\u001b[0m\u001b[0;36m1\u001b[0m\u001b[0;34m]\u001b[0m\u001b[0;34m\u001b[0m\u001b[0;34m\u001b[0m\u001b[0m\n\u001b[1;32m      5\u001b[0m \u001b[0;31m# surface area of the image\u001b[0m\u001b[0;34m\u001b[0m\u001b[0;34m\u001b[0m\u001b[0;34m\u001b[0m\u001b[0m\n",
      "\u001b[0;31mNameError\u001b[0m: name 'image' is not defined"
     ]
    }
   ],
   "source": [
    "# dimensions of the picture \n",
    "# x and y sizes should be even numbers \n",
    "x_dim = np.shape (image)[0]\n",
    "y_dim = np.shape (image)[1]\n",
    "# surface area of the image\n",
    "mu0 = x_dim*y_dim\n",
    "#normalizing the image\n",
    "#img = img/mu0"
   ]
  },
  {
   "cell_type": "code",
   "execution_count": 12,
   "id": "765bb4c9",
   "metadata": {
    "scrolled": true
   },
   "outputs": [
    {
     "ename": "NameError",
     "evalue": "name 'x_dim' is not defined",
     "output_type": "error",
     "traceback": [
      "\u001b[0;31m---------------------------------------------------------------------------\u001b[0m",
      "\u001b[0;31mNameError\u001b[0m                                 Traceback (most recent call last)",
      "\u001b[0;32m<ipython-input-12-67019c3e3507>\u001b[0m in \u001b[0;36m<module>\u001b[0;34m\u001b[0m\n\u001b[1;32m      1\u001b[0m \u001b[0;31m#maximum scale of the picture is chosen so that 2**jmax < min (x_dim , y_dim)\u001b[0m\u001b[0;34m\u001b[0m\u001b[0;34m\u001b[0m\u001b[0;34m\u001b[0m\u001b[0m\n\u001b[0;32m----> 2\u001b[0;31m \u001b[0mjmax\u001b[0m \u001b[0;34m=\u001b[0m \u001b[0mint\u001b[0m \u001b[0;34m(\u001b[0m\u001b[0mnp\u001b[0m\u001b[0;34m.\u001b[0m\u001b[0mfloor\u001b[0m\u001b[0;34m(\u001b[0m\u001b[0mnp\u001b[0m\u001b[0;34m.\u001b[0m\u001b[0mlog\u001b[0m \u001b[0;34m(\u001b[0m\u001b[0mmin\u001b[0m\u001b[0;34m(\u001b[0m\u001b[0mx_dim\u001b[0m\u001b[0;34m,\u001b[0m\u001b[0my_dim\u001b[0m\u001b[0;34m)\u001b[0m\u001b[0;34m)\u001b[0m\u001b[0;34m/\u001b[0m\u001b[0mnp\u001b[0m\u001b[0;34m.\u001b[0m\u001b[0mlog\u001b[0m\u001b[0;34m(\u001b[0m\u001b[0;36m2\u001b[0m\u001b[0;34m)\u001b[0m\u001b[0;34m)\u001b[0m\u001b[0;34m+\u001b[0m\u001b[0;36m1\u001b[0m\u001b[0;34m)\u001b[0m\u001b[0;34m\u001b[0m\u001b[0;34m\u001b[0m\u001b[0m\n\u001b[0m\u001b[1;32m      3\u001b[0m \u001b[0mprint\u001b[0m\u001b[0;34m(\u001b[0m\u001b[0mjmax\u001b[0m\u001b[0;34m)\u001b[0m\u001b[0;34m\u001b[0m\u001b[0;34m\u001b[0m\u001b[0m\n",
      "\u001b[0;31mNameError\u001b[0m: name 'x_dim' is not defined"
     ]
    }
   ],
   "source": [
    "#maximum scale of the picture is chosen so that 2**jmax < min (x_dim , y_dim)\n",
    "jmax = int (np.floor(np.log (min(x_dim,y_dim))/np.log(2))+1)\n",
    "print(jmax)"
   ]
  },
  {
   "cell_type": "code",
   "execution_count": 13,
   "id": "1298d91e",
   "metadata": {},
   "outputs": [
    {
     "ename": "NameError",
     "evalue": "name 'jmax' is not defined",
     "output_type": "error",
     "traceback": [
      "\u001b[0;31m---------------------------------------------------------------------------\u001b[0m",
      "\u001b[0;31mNameError\u001b[0m                                 Traceback (most recent call last)",
      "\u001b[0;32m<ipython-input-13-5792d220bc0b>\u001b[0m in \u001b[0;36m<module>\u001b[0;34m\u001b[0m\n\u001b[1;32m      2\u001b[0m \u001b[0;34m\u001b[0m\u001b[0m\n\u001b[1;32m      3\u001b[0m \u001b[0mmorlet_arr\u001b[0m \u001b[0;34m=\u001b[0m \u001b[0;34m[\u001b[0m\u001b[0;34m]\u001b[0m\u001b[0;34m\u001b[0m\u001b[0;34m\u001b[0m\u001b[0m\n\u001b[0;32m----> 4\u001b[0;31m \u001b[0;32mfor\u001b[0m \u001b[0mj\u001b[0m \u001b[0;32min\u001b[0m \u001b[0mrange\u001b[0m \u001b[0;34m(\u001b[0m\u001b[0mjmax\u001b[0m\u001b[0;34m)\u001b[0m\u001b[0;34m:\u001b[0m\u001b[0;34m\u001b[0m\u001b[0;34m\u001b[0m\u001b[0m\n\u001b[0m\u001b[1;32m      5\u001b[0m     \u001b[0msigma\u001b[0m\u001b[0;34m=\u001b[0m\u001b[0;36m0.8\u001b[0m\u001b[0;34m*\u001b[0m\u001b[0;36m2\u001b[0m\u001b[0;34m**\u001b[0m\u001b[0mj\u001b[0m\u001b[0;34m\u001b[0m\u001b[0;34m\u001b[0m\u001b[0m\n\u001b[1;32m      6\u001b[0m     \u001b[0mfreq\u001b[0m\u001b[0;34m=\u001b[0m\u001b[0;34m(\u001b[0m\u001b[0;36m3\u001b[0m\u001b[0;34m*\u001b[0m\u001b[0mnp\u001b[0m\u001b[0;34m.\u001b[0m\u001b[0mpi\u001b[0m\u001b[0;34m)\u001b[0m\u001b[0;34m/\u001b[0m\u001b[0;34m(\u001b[0m\u001b[0;36m4.\u001b[0m\u001b[0;34m*\u001b[0m\u001b[0;36m2\u001b[0m\u001b[0;34m**\u001b[0m\u001b[0mj\u001b[0m\u001b[0;34m)\u001b[0m\u001b[0;34m\u001b[0m\u001b[0;34m\u001b[0m\u001b[0m\n",
      "\u001b[0;31mNameError\u001b[0m: name 'jmax' is not defined"
     ]
    }
   ],
   "source": [
    "# making a list of morlet maps\n",
    "\n",
    "morlet_arr = []\n",
    "for j in range (jmax):\n",
    "    sigma=0.8*2**j\n",
    "    freq=(3*np.pi)/(4.*2**j)\n",
    "    mor = morlet_2d (x_dim, y_dim, sigma, freq)\n",
    "    morlet_arr.append(mor)\n",
    "    \n",
    "    "
   ]
  },
  {
   "cell_type": "code",
   "execution_count": 35,
   "id": "b7ebaf34",
   "metadata": {},
   "outputs": [],
   "source": [
    "s0 = np.mean(image)"
   ]
  },
  {
   "cell_type": "code",
   "execution_count": 36,
   "id": "165c4829",
   "metadata": {},
   "outputs": [],
   "source": [
    "s1 , i1 = comp_s1(image, morlet_arr, jmax)"
   ]
  },
  {
   "cell_type": "code",
   "execution_count": 37,
   "id": "16a71c46",
   "metadata": {},
   "outputs": [],
   "source": [
    "s2 , i2 = comp_s2(i1, morlet_arr, jmax)"
   ]
  },
  {
   "cell_type": "code",
   "execution_count": null,
   "id": "6619ebb6",
   "metadata": {},
   "outputs": [],
   "source": []
  },
  {
   "cell_type": "code",
   "execution_count": 41,
   "id": "f12318d9",
   "metadata": {},
   "outputs": [],
   "source": [
    "jarray = np.arange (jmax)\n",
    "scale = 2**jarray"
   ]
  },
  {
   "cell_type": "code",
   "execution_count": 23,
   "id": "23c08bed",
   "metadata": {},
   "outputs": [
    {
     "data": {
      "text/plain": [
       "Text(0, 0.5, 'S1')"
      ]
     },
     "execution_count": 23,
     "metadata": {},
     "output_type": "execute_result"
    },
    {
     "data": {
      "image/png": "[encoded data removed]",
      "text/plain": [
       "<Figure size 1440x720 with 1 Axes>"
      ]
     },
     "metadata": {
      "needs_background": "light"
     },
     "output_type": "display_data"
    }
   ],
   "source": [
    "plt.figure(figsize=(20,10))\n",
    "plt.loglog (scale,s1/s0,'o-',color=\"blue\")\n",
    "\n",
    "plt.xlabel(\"scale(arcmin)\")\n",
    "plt.ylabel(\"S1\") \n",
    "#plt.legend ([\"non-Gaussian\", \"Gaussian\"])"
   ]
  },
  {
   "cell_type": "code",
   "execution_count": null,
   "id": "6969aa9f",
   "metadata": {},
   "outputs": [],
   "source": []
  },
  {
   "cell_type": "code",
   "execution_count": null,
   "id": "5cb7baf9",
   "metadata": {},
   "outputs": [],
   "source": []
  },
  {
   "cell_type": "code",
   "execution_count": 60,
   "id": "cd926eec",
   "metadata": {},
   "outputs": [
    {
     "data": {
      "image/png": "[encoded data removed]",
      "text/plain": [
       "<Figure size 1440x720 with 1 Axes>"
      ]
     },
     "metadata": {
      "needs_background": "light"
     },
     "output_type": "display_data"
    }
   ],
   "source": [
    "pl.figure(figsize=(20,10))\n",
    "pl.plot (scale,np.log(s1/s0),'o-',color=\"blue\")\n",
    "\n",
    "pl.xlabel(\"scale(arcmin)\")\n",
    "pl.ylabel(\"S1\") \n",
    "#plt.legend ([\"non-Gaussian\", \"Gaussian\"])\n",
    "pl.plot(360/kvals, np.log(Abins))\n",
    "\n",
    "pl.xlabel(\"$k$\")\n",
    "pl.ylabel(\"$P(k)$\")\n",
    "pl.tight_layout()\n",
    "pl.savefig(\"cloud_power_spectrum.png\", dpi = 300, bbox_inches = \"tight\")"
   ]
  },
  {
   "cell_type": "code",
   "execution_count": null,
   "id": "b083470c",
   "metadata": {},
   "outputs": [],
   "source": []
  },
  {
   "cell_type": "code",
   "execution_count": null,
   "id": "3ac48578",
   "metadata": {},
   "outputs": [],
   "source": []
  },
  {
   "cell_type": "code",
   "execution_count": null,
   "id": "29dfe6ee",
   "metadata": {},
   "outputs": [],
   "source": []
  },
  {
   "cell_type": "code",
   "execution_count": null,
   "id": "41a085af",
   "metadata": {},
   "outputs": [],
   "source": []
  }
 ],
 "metadata": {
  "kernelspec": {
   "display_name": "Python 3 (ipykernel)",
   "language": "python",
   "name": "python3"
  },
  "language_info": {
   "codemirror_mode": {
    "name": "ipython",
    "version": 3
   },
   "file_extension": ".py",
   "mimetype": "text/x-python",
   "name": "python",
   "nbconvert_exporter": "python",
   "pygments_lexer": "ipython3",
   "version": "3.8.13"
  }
 },
 "nbformat": 4,
 "nbformat_minor": 5
}
